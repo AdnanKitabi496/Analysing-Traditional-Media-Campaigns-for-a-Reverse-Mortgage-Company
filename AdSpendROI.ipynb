{
 "cells": [
  {
   "cell_type": "code",
   "execution_count": 2,
   "metadata": {},
   "outputs": [],
   "source": [
    "import pandas as pd"
   ]
  },
  {
   "cell_type": "code",
   "execution_count": 3,
   "metadata": {},
   "outputs": [],
   "source": [
    "active = pd.read_excel(r'C:\\Users\\91709\\Downloads\\Work\\UpWork\\2022-23\\Ben\\Data Package\\Active.xlsx', sheet_name= 'Sheet2')\n",
    "trans = pd.read_csv(r'C:\\Users\\91709\\Downloads\\Work\\UpWork\\2022-23\\Ben\\Data Package\\Google Ads Data by Campaign and City (01Jan2022-02Oct2022).csv')"
   ]
  },
  {
   "cell_type": "code",
   "execution_count": 15,
   "metadata": {},
   "outputs": [],
   "source": [
    "active_pivot= active.pivot_table(values='PUBLICATION', index=['CITY/TOWN', 'Custom', 'TEL CODE'], \\\n",
    "                           aggfunc=pd.Series.nunique).reset_index()"
   ]
  },
  {
   "cell_type": "code",
   "execution_count": 16,
   "metadata": {},
   "outputs": [
    {
     "data": {
      "text/html": [
       "<div>\n",
       "<style scoped>\n",
       "    .dataframe tbody tr th:only-of-type {\n",
       "        vertical-align: middle;\n",
       "    }\n",
       "\n",
       "    .dataframe tbody tr th {\n",
       "        vertical-align: top;\n",
       "    }\n",
       "\n",
       "    .dataframe thead th {\n",
       "        text-align: right;\n",
       "    }\n",
       "</style>\n",
       "<table border=\"1\" class=\"dataframe\">\n",
       "  <thead>\n",
       "    <tr style=\"text-align: right;\">\n",
       "      <th></th>\n",
       "      <th>CITY/TOWN</th>\n",
       "      <th>Custom</th>\n",
       "      <th>TEL CODE</th>\n",
       "      <th>PUBLICATION</th>\n",
       "    </tr>\n",
       "  </thead>\n",
       "  <tbody>\n",
       "    <tr>\n",
       "      <th>0</th>\n",
       "      <td>100 Mile House</td>\n",
       "      <td>2022-04-20</td>\n",
       "      <td>778</td>\n",
       "      <td>1</td>\n",
       "    </tr>\n",
       "    <tr>\n",
       "      <th>1</th>\n",
       "      <td>100 Mile House</td>\n",
       "      <td>2022-04-21</td>\n",
       "      <td>778</td>\n",
       "      <td>2</td>\n",
       "    </tr>\n",
       "    <tr>\n",
       "      <th>2</th>\n",
       "      <td>100 Mile House</td>\n",
       "      <td>2022-04-22</td>\n",
       "      <td>778</td>\n",
       "      <td>2</td>\n",
       "    </tr>\n",
       "    <tr>\n",
       "      <th>3</th>\n",
       "      <td>100 Mile House</td>\n",
       "      <td>2022-04-23</td>\n",
       "      <td>778</td>\n",
       "      <td>3</td>\n",
       "    </tr>\n",
       "    <tr>\n",
       "      <th>4</th>\n",
       "      <td>100 Mile House</td>\n",
       "      <td>2022-04-24</td>\n",
       "      <td>778</td>\n",
       "      <td>3</td>\n",
       "    </tr>\n",
       "    <tr>\n",
       "      <th>...</th>\n",
       "      <td>...</td>\n",
       "      <td>...</td>\n",
       "      <td>...</td>\n",
       "      <td>...</td>\n",
       "    </tr>\n",
       "    <tr>\n",
       "      <th>99324</th>\n",
       "      <td>Wyoming</td>\n",
       "      <td>2022-10-30</td>\n",
       "      <td>519</td>\n",
       "      <td>1</td>\n",
       "    </tr>\n",
       "    <tr>\n",
       "      <th>99325</th>\n",
       "      <td>Wyoming</td>\n",
       "      <td>2022-10-30</td>\n",
       "      <td>548</td>\n",
       "      <td>1</td>\n",
       "    </tr>\n",
       "    <tr>\n",
       "      <th>99326</th>\n",
       "      <td>Wyoming</td>\n",
       "      <td>2022-10-31</td>\n",
       "      <td>226</td>\n",
       "      <td>1</td>\n",
       "    </tr>\n",
       "    <tr>\n",
       "      <th>99327</th>\n",
       "      <td>Wyoming</td>\n",
       "      <td>2022-10-31</td>\n",
       "      <td>519</td>\n",
       "      <td>1</td>\n",
       "    </tr>\n",
       "    <tr>\n",
       "      <th>99328</th>\n",
       "      <td>Wyoming</td>\n",
       "      <td>2022-10-31</td>\n",
       "      <td>548</td>\n",
       "      <td>1</td>\n",
       "    </tr>\n",
       "  </tbody>\n",
       "</table>\n",
       "<p>99329 rows × 4 columns</p>\n",
       "</div>"
      ],
      "text/plain": [
       "            CITY/TOWN     Custom  TEL CODE  PUBLICATION\n",
       "0      100 Mile House 2022-04-20       778            1\n",
       "1      100 Mile House 2022-04-21       778            2\n",
       "2      100 Mile House 2022-04-22       778            2\n",
       "3      100 Mile House 2022-04-23       778            3\n",
       "4      100 Mile House 2022-04-24       778            3\n",
       "...               ...        ...       ...          ...\n",
       "99324         Wyoming 2022-10-30       519            1\n",
       "99325         Wyoming 2022-10-30       548            1\n",
       "99326         Wyoming 2022-10-31       226            1\n",
       "99327         Wyoming 2022-10-31       519            1\n",
       "99328         Wyoming 2022-10-31       548            1\n",
       "\n",
       "[99329 rows x 4 columns]"
      ]
     },
     "execution_count": 16,
     "metadata": {},
     "output_type": "execute_result"
    }
   ],
   "source": [
    "active_pivot"
   ]
  },
  {
   "cell_type": "code",
   "execution_count": 17,
   "metadata": {},
   "outputs": [],
   "source": [
    "active_pivot['Concat'] = active_pivot['CITY/TOWN'] + ' - ' + active_pivot['Custom'].astype(str)\n",
    "trans['Concat'] = trans['City (Geographic)'] + ' - ' + trans['Day'].astype(str)"
   ]
  },
  {
   "cell_type": "code",
   "execution_count": 18,
   "metadata": {},
   "outputs": [],
   "source": [
    "merge= trans.merge(active_pivot, how='left', on= 'Concat')"
   ]
  },
  {
   "cell_type": "code",
   "execution_count": 19,
   "metadata": {},
   "outputs": [],
   "source": [
    "merge.to_excel('active.xlsx')"
   ]
  },
  {
   "cell_type": "code",
   "execution_count": null,
   "metadata": {},
   "outputs": [],
   "source": []
  }
 ],
 "metadata": {
  "kernelspec": {
   "display_name": "Python 3",
   "language": "python",
   "name": "python3"
  },
  "language_info": {
   "codemirror_mode": {
    "name": "ipython",
    "version": 3
   },
   "file_extension": ".py",
   "mimetype": "text/x-python",
   "name": "python",
   "nbconvert_exporter": "python",
   "pygments_lexer": "ipython3",
   "version": "3.7.6"
  }
 },
 "nbformat": 4,
 "nbformat_minor": 4
}
